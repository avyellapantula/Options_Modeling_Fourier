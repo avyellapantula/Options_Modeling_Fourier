{
 "cells": [
  {
   "cell_type": "code",
   "execution_count": 3,
   "metadata": {},
   "outputs": [],
   "source": [
    "import pandas as pd\n",
    "import numpy as np\n",
    "import seaborn as sns\n",
    "from scipy.integrate import quad"
   ]
  },
  {
   "cell_type": "code",
   "execution_count": 2,
   "metadata": {},
   "outputs": [],
   "source": [
    "# characteristic function for BSM\n",
    "# imag numb\n",
    "\n",
    "def chfun_norm(s0,v,r,t,w):\n",
    "    i = 1j\n",
    "    mean = np.log(s0)+(r-(v^2)/2)*t   # mean\n",
    "    var = (v^2)*t                     # variance\n",
    "    y = exp((i*w*mean)-(w*w*var*0.5)) # characteristic func of log(S_t)\n",
    "                                      # evaluated at points w\n",
    "    return y                          # may have issues because ignored\n",
    "                                      # array calcs\n"
   ]
  },
  {
   "cell_type": "code",
   "execution_count": null,
   "metadata": {},
   "outputs": [],
   "source": [
    "'''\n",
    "int1 = @(w,s0,v,r,t,k) real(exp(-i.*w*log(k)).*chfun_norm(s0,v,r,t,w-i)./(i*w.*chfun_norm(s0, v, r, t, -i))); \n",
    "\n",
    "int1 = integral(@(w)int1(w,s0,v,r,t,k),0,100); \n",
    "\n",
    "pi1 = int1/pi+0.5;\n",
    "\n",
    "% Inner integral 2\n",
    "\n",
    "int2 = @(w,s0,v,r,t,k) real(exp(-i.*w*log(k)).*chfun_norm(s0, v, r, t, w)./(i*w));\n",
    "\n",
    "int2 = integral(@(w)int2(w,s0, v, r, t, k),0,100); \n",
    "\n",
    "pi2 = int2/pi+0.5; \n",
    "'''\n"
   ]
  },
  {
   "cell_type": "code",
   "execution_count": null,
   "metadata": {},
   "outputs": [],
   "source": [
    "# define the integrand\n",
    "#use quad\n"
   ]
  }
 ],
 "metadata": {
  "kernelspec": {
   "display_name": "Python 3",
   "language": "python",
   "name": "python3"
  },
  "language_info": {
   "codemirror_mode": {
    "name": "ipython",
    "version": 3
   },
   "file_extension": ".py",
   "mimetype": "text/x-python",
   "name": "python",
   "nbconvert_exporter": "python",
   "pygments_lexer": "ipython3",
   "version": "3.8.5"
  }
 },
 "nbformat": 4,
 "nbformat_minor": 4
}
