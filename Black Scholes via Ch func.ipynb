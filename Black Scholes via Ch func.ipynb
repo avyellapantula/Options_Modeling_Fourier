{
 "cells": [
  {
   "cell_type": "code",
   "execution_count": 3,
   "metadata": {},
   "outputs": [],
   "source": [
    "import pandas as pd\n",
    "import numpy as np\n",
    "import seaborn as sns\n",
    "from scipy.integrate import quad"
   ]
  },
  {
   "cell_type": "code",
   "execution_count": null,
   "metadata": {},
   "outputs": [],
   "source": [
    "'''\n",
    "characteristic func\n",
    "ch_func = exp(i*w*(mean)-.5*w^2*(variance))\n",
    "ln(St) version:\n",
    "ch_func(w) = exp(iw[ln(S0)+(r-0.5sigma^2)t]-.5w^2sigma^2t)\n",
    "'''"
   ]
  },
  {
   "cell_type": "code",
   "execution_count": 4,
   "metadata": {},
   "outputs": [],
   "source": [
    "# cf function:\n",
    "# ch_func(w) = exp(iw[ln(S0)+(r-0.5sigma^2)t]-.5w^2sigma^2t)\n",
    "def cf(S0,r,t,sigma,w):\n",
    "    i=1j\n",
    "    return exp(i*w*(np.log(S0)+(r-0.5*sigma^2)*t)-0.5*w^2*sigma^2*t)"
   ]
  },
  {
   "cell_type": "code",
   "execution_count": 2,
   "metadata": {},
   "outputs": [],
   "source": [
    "# characteristic function for BSM\n",
    "# imag numb\n",
    "\n",
    "def chfun_norm(s0,v,r,t,w):\n",
    "    i = 1j\n",
    "    mean = np.log(s0)+(r-(v^2)/2)*t   # mean\n",
    "    var = (v^2)*t                     # variance\n",
    "    y = exp((i*w*mean)-(w*w*var*0.5)) # characteristic func of log(S_t)\n",
    "                                      # evaluated at points w\n",
    "    return y                          # may have issues because ignored\n",
    "                                      # array calcs\n"
   ]
  },
  {
   "cell_type": "code",
   "execution_count": 5,
   "metadata": {},
   "outputs": [],
   "source": [
    "def pi1(w,k,St,r,t,sigma,S0):\n",
    "    i=1j\n",
    "    p1 = exp(-i*w*np.log(k))*cf(S0,r,t,sigma,w-i)\n",
    "    p2 = i*w*cf(S0,r,t,sigma,-i)\n",
    "    p3 = p1/p2\n",
    "    p4 = p3.real\n",
    "    return p4"
   ]
  },
  {
   "cell_type": "code",
   "execution_count": null,
   "metadata": {},
   "outputs": [],
   "source": []
  },
  {
   "cell_type": "code",
   "execution_count": null,
   "metadata": {},
   "outputs": [],
   "source": [
    "'''\n",
    "int1 = @(w,s0,v,r,t,k) real(exp(-i.*w*log(k)).*chfun_norm(s0,v,r,t,w-i)./(i*w.*chfun_norm(s0, v, r, t, -i))); \n",
    "\n",
    "int1 = integral(@(w)int1(w,s0,v,r,t,k),0,100); \n",
    "\n",
    "pi1 = int1/pi+0.5;\n",
    "\n",
    "% Inner integral 2\n",
    "\n",
    "int2 = @(w,s0,v,r,t,k) real(exp(-i.*w*log(k)).*chfun_norm(s0, v, r, t, w)./(i*w));\n",
    "\n",
    "int2 = integral(@(w)int2(w,s0, v, r, t, k),0,100); \n",
    "\n",
    "pi2 = int2/pi+0.5; \n",
    "\n",
    "%function y = call_bsm_cf(s0, v, r,t, k)\n",
    ">> call_bsm_cf(100, 0.20,0.02, 1, 100)\n",
    "'''\n"
   ]
  },
  {
   "cell_type": "code",
   "execution_count": null,
   "metadata": {},
   "outputs": [],
   "source": [
    "# define the integrand\n",
    "#use quad\n",
    "i=1j\n",
    "w=0\n",
    "k=0\n",
    "St=0\n"
   ]
  }
 ],
 "metadata": {
  "kernelspec": {
   "display_name": "Python 3",
   "language": "python",
   "name": "python3"
  },
  "language_info": {
   "codemirror_mode": {
    "name": "ipython",
    "version": 3
   },
   "file_extension": ".py",
   "mimetype": "text/x-python",
   "name": "python",
   "nbconvert_exporter": "python",
   "pygments_lexer": "ipython3",
   "version": "3.8.5"
  }
 },
 "nbformat": 4,
 "nbformat_minor": 4
}
