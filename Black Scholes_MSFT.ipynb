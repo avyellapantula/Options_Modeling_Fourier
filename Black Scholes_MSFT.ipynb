{
 "cells": [
  {
   "cell_type": "code",
   "execution_count": 20,
   "metadata": {},
   "outputs": [],
   "source": [
    "# download annual historical data for the stock\n",
    "import pandas as pd\n",
    "df = pd.read_csv(\"MSFT.csv\")\n",
    "df = df.sort_values(by=\"Date\")\n",
    "df = df.dropna()\n",
    "# calculate returns\n",
    "df = df.assign(close_day_before=df.Close.shift(1))\n",
    "df['returns'] = ((df.Close - df.close_day_before)/df.close_day_before)\n",
    "\n",
    "# get options data from yahoo finance // in this case, exercise data is july 24th\n",
    "r = pd.read_html('https://finance.yahoo.com/quote/MSFT/options?date=1609372800&p=MSFT')[0]"
   ]
  },
  {
   "cell_type": "code",
   "execution_count": 21,
   "metadata": {},
   "outputs": [
    {
     "data": {
      "text/plain": [
       "25"
      ]
     },
     "execution_count": 21,
     "metadata": {},
     "output_type": "execute_result"
    }
   ],
   "source": [
    "len(r)"
   ]
  },
  {
   "cell_type": "code",
   "execution_count": 22,
   "metadata": {},
   "outputs": [
    {
     "data": {
      "text/html": [
       "<div>\n",
       "<style scoped>\n",
       "    .dataframe tbody tr th:only-of-type {\n",
       "        vertical-align: middle;\n",
       "    }\n",
       "\n",
       "    .dataframe tbody tr th {\n",
       "        vertical-align: top;\n",
       "    }\n",
       "\n",
       "    .dataframe thead th {\n",
       "        text-align: right;\n",
       "    }\n",
       "</style>\n",
       "<table border=\"1\" class=\"dataframe\">\n",
       "  <thead>\n",
       "    <tr style=\"text-align: right;\">\n",
       "      <th></th>\n",
       "      <th>Contract Name</th>\n",
       "      <th>Last Trade Date</th>\n",
       "      <th>Strike</th>\n",
       "      <th>Last Price</th>\n",
       "      <th>Bid</th>\n",
       "      <th>Ask</th>\n",
       "      <th>Change</th>\n",
       "      <th>% Change</th>\n",
       "      <th>Volume</th>\n",
       "      <th>Open Interest</th>\n",
       "      <th>Implied Volatility</th>\n",
       "    </tr>\n",
       "  </thead>\n",
       "  <tbody>\n",
       "    <tr>\n",
       "      <th>0</th>\n",
       "      <td>MSFT201231C00185000</td>\n",
       "      <td>2020-12-24 11:37AM EST</td>\n",
       "      <td>185.0</td>\n",
       "      <td>37.25</td>\n",
       "      <td>37.45</td>\n",
       "      <td>38.20</td>\n",
       "      <td>0.20</td>\n",
       "      <td>+0.54%</td>\n",
       "      <td>2</td>\n",
       "      <td>24</td>\n",
       "      <td>71.09%</td>\n",
       "    </tr>\n",
       "    <tr>\n",
       "      <th>1</th>\n",
       "      <td>MSFT201231C00190000</td>\n",
       "      <td>2020-12-24 10:52AM EST</td>\n",
       "      <td>190.0</td>\n",
       "      <td>33.00</td>\n",
       "      <td>32.45</td>\n",
       "      <td>33.20</td>\n",
       "      <td>0.53</td>\n",
       "      <td>+1.63%</td>\n",
       "      <td>8</td>\n",
       "      <td>101</td>\n",
       "      <td>62.11%</td>\n",
       "    </tr>\n",
       "    <tr>\n",
       "      <th>2</th>\n",
       "      <td>MSFT201231C00192500</td>\n",
       "      <td>2020-12-23 12:31PM EST</td>\n",
       "      <td>192.5</td>\n",
       "      <td>30.60</td>\n",
       "      <td>30.00</td>\n",
       "      <td>30.70</td>\n",
       "      <td>0.00</td>\n",
       "      <td>-</td>\n",
       "      <td>2</td>\n",
       "      <td>7</td>\n",
       "      <td>59.96%</td>\n",
       "    </tr>\n",
       "    <tr>\n",
       "      <th>3</th>\n",
       "      <td>MSFT201231C00195000</td>\n",
       "      <td>2020-12-24 10:08AM EST</td>\n",
       "      <td>195.0</td>\n",
       "      <td>27.55</td>\n",
       "      <td>27.50</td>\n",
       "      <td>28.20</td>\n",
       "      <td>0.04</td>\n",
       "      <td>+0.15%</td>\n",
       "      <td>3</td>\n",
       "      <td>62</td>\n",
       "      <td>55.47%</td>\n",
       "    </tr>\n",
       "    <tr>\n",
       "      <th>4</th>\n",
       "      <td>MSFT201231C00197500</td>\n",
       "      <td>2020-12-23 9:50AM EST</td>\n",
       "      <td>197.5</td>\n",
       "      <td>25.20</td>\n",
       "      <td>25.15</td>\n",
       "      <td>25.55</td>\n",
       "      <td>0.00</td>\n",
       "      <td>-</td>\n",
       "      <td>4</td>\n",
       "      <td>19</td>\n",
       "      <td>50.78%</td>\n",
       "    </tr>\n",
       "  </tbody>\n",
       "</table>\n",
       "</div>"
      ],
      "text/plain": [
       "         Contract Name         Last Trade Date  Strike  Last Price    Bid  \\\n",
       "0  MSFT201231C00185000  2020-12-24 11:37AM EST   185.0       37.25  37.45   \n",
       "1  MSFT201231C00190000  2020-12-24 10:52AM EST   190.0       33.00  32.45   \n",
       "2  MSFT201231C00192500  2020-12-23 12:31PM EST   192.5       30.60  30.00   \n",
       "3  MSFT201231C00195000  2020-12-24 10:08AM EST   195.0       27.55  27.50   \n",
       "4  MSFT201231C00197500   2020-12-23 9:50AM EST   197.5       25.20  25.15   \n",
       "\n",
       "     Ask  Change % Change  Volume  Open Interest Implied Volatility  \n",
       "0  38.20    0.20   +0.54%       2             24             71.09%  \n",
       "1  33.20    0.53   +1.63%       8            101             62.11%  \n",
       "2  30.70    0.00        -       2              7             59.96%  \n",
       "3  28.20    0.04   +0.15%       3             62             55.47%  \n",
       "4  25.55    0.00        -       4             19             50.78%  "
      ]
     },
     "execution_count": 22,
     "metadata": {},
     "output_type": "execute_result"
    }
   ],
   "source": [
    "r.head()"
   ]
  },
  {
   "cell_type": "code",
   "execution_count": 23,
   "metadata": {},
   "outputs": [],
   "source": [
    "# S is the spot price \n",
    "# K is the strike price \n",
    "# T is the fraction of days to strike date divided by 252 (stock market days)\n",
    "# r is the risk free rate\n",
    "# sigma is the annual volatility of the returns of the stock \n",
    "\n",
    "def black_scholes(S, K, T, r, sigma):\n",
    "    d1 = np.log(S/(K/(1 + r)**T)/(sigma*sqrt(T))) + (sigma*sqrt(T))/2\n",
    "    d2 = d1 - sigma * np.sqrt(T)\n",
    "    return S * norm.cdf(d1) - (K/(1 + r)**T) * norm.cdf(d2)"
   ]
  },
  {
   "cell_type": "code",
   "execution_count": 24,
   "metadata": {},
   "outputs": [],
   "source": [
    "from math import sqrt\n",
    "import numpy as np\n",
    "from scipy.stats import norm\n",
    "\n",
    "# Calculate the volatility as the annualized standard deviation of the stock returns\n",
    "sigma = np.sqrt(252) * df['returns'].std()\n",
    "\n",
    "list_estimates = []\n",
    "\n",
    "# currently 35 different strike prices for call contracts \n",
    "for x in range(0,25):\n",
    "    value_s = black_scholes(S = 222.75, \n",
    "                            K = r['Strike'][x], \n",
    "                            T = (40/252), \n",
    "                            r = 0.0094, \n",
    "                            sigma = sigma)\n",
    "    list_estimates.append(value_s)\n",
    "    \n",
    "\n",
    "# merge the two lists to compare results\n",
    "df_list = pd.DataFrame(data=list_estimates, index=r.index)\n",
    "df_list['estimate_1'] = df_list[0]\n",
    "del df_list[0]\n",
    "df_estimate = r.merge(df_list, right_index = True, left_index = True)"
   ]
  },
  {
   "cell_type": "code",
   "execution_count": 25,
   "metadata": {
    "scrolled": true
   },
   "outputs": [
    {
     "data": {
      "text/html": [
       "<div>\n",
       "<style scoped>\n",
       "    .dataframe tbody tr th:only-of-type {\n",
       "        vertical-align: middle;\n",
       "    }\n",
       "\n",
       "    .dataframe tbody tr th {\n",
       "        vertical-align: top;\n",
       "    }\n",
       "\n",
       "    .dataframe thead th {\n",
       "        text-align: right;\n",
       "    }\n",
       "</style>\n",
       "<table border=\"1\" class=\"dataframe\">\n",
       "  <thead>\n",
       "    <tr style=\"text-align: right;\">\n",
       "      <th></th>\n",
       "      <th>Contract Name</th>\n",
       "      <th>Last Trade Date</th>\n",
       "      <th>Strike</th>\n",
       "      <th>Last Price</th>\n",
       "      <th>Bid</th>\n",
       "      <th>Ask</th>\n",
       "      <th>Change</th>\n",
       "      <th>% Change</th>\n",
       "      <th>Volume</th>\n",
       "      <th>Open Interest</th>\n",
       "      <th>Implied Volatility</th>\n",
       "      <th>estimate_1</th>\n",
       "    </tr>\n",
       "  </thead>\n",
       "  <tbody>\n",
       "    <tr>\n",
       "      <th>20</th>\n",
       "      <td>MSFT201231C00237500</td>\n",
       "      <td>2020-12-24 12:56PM EST</td>\n",
       "      <td>237.5</td>\n",
       "      <td>0.09</td>\n",
       "      <td>0.07</td>\n",
       "      <td>0.11</td>\n",
       "      <td>-0.05</td>\n",
       "      <td>-35.71%</td>\n",
       "      <td>281</td>\n",
       "      <td>1639</td>\n",
       "      <td>30.08%</td>\n",
       "      <td>-9.764220</td>\n",
       "    </tr>\n",
       "    <tr>\n",
       "      <th>21</th>\n",
       "      <td>MSFT201231C00240000</td>\n",
       "      <td>2020-12-24 12:49PM EST</td>\n",
       "      <td>240.0</td>\n",
       "      <td>0.08</td>\n",
       "      <td>0.07</td>\n",
       "      <td>0.10</td>\n",
       "      <td>-0.02</td>\n",
       "      <td>-20.00%</td>\n",
       "      <td>466</td>\n",
       "      <td>1669</td>\n",
       "      <td>33.50%</td>\n",
       "      <td>-12.033298</td>\n",
       "    </tr>\n",
       "    <tr>\n",
       "      <th>22</th>\n",
       "      <td>MSFT201231C00242500</td>\n",
       "      <td>2020-12-24 12:52PM EST</td>\n",
       "      <td>242.5</td>\n",
       "      <td>0.07</td>\n",
       "      <td>0.06</td>\n",
       "      <td>0.08</td>\n",
       "      <td>-0.02</td>\n",
       "      <td>-22.22%</td>\n",
       "      <td>141</td>\n",
       "      <td>625</td>\n",
       "      <td>36.04%</td>\n",
       "      <td>-14.296247</td>\n",
       "    </tr>\n",
       "    <tr>\n",
       "      <th>23</th>\n",
       "      <td>MSFT201231C00245000</td>\n",
       "      <td>2020-12-24 12:50PM EST</td>\n",
       "      <td>245.0</td>\n",
       "      <td>0.05</td>\n",
       "      <td>0.03</td>\n",
       "      <td>0.06</td>\n",
       "      <td>-0.01</td>\n",
       "      <td>-16.67%</td>\n",
       "      <td>83</td>\n",
       "      <td>596</td>\n",
       "      <td>38.09%</td>\n",
       "      <td>-16.553029</td>\n",
       "    </tr>\n",
       "    <tr>\n",
       "      <th>24</th>\n",
       "      <td>MSFT201231C00250000</td>\n",
       "      <td>2020-12-24 12:54PM EST</td>\n",
       "      <td>250.0</td>\n",
       "      <td>0.04</td>\n",
       "      <td>0.01</td>\n",
       "      <td>0.05</td>\n",
       "      <td>-0.01</td>\n",
       "      <td>-20.00%</td>\n",
       "      <td>340</td>\n",
       "      <td>1270</td>\n",
       "      <td>43.75%</td>\n",
       "      <td>-21.047935</td>\n",
       "    </tr>\n",
       "  </tbody>\n",
       "</table>\n",
       "</div>"
      ],
      "text/plain": [
       "          Contract Name         Last Trade Date  Strike  Last Price   Bid  \\\n",
       "20  MSFT201231C00237500  2020-12-24 12:56PM EST   237.5        0.09  0.07   \n",
       "21  MSFT201231C00240000  2020-12-24 12:49PM EST   240.0        0.08  0.07   \n",
       "22  MSFT201231C00242500  2020-12-24 12:52PM EST   242.5        0.07  0.06   \n",
       "23  MSFT201231C00245000  2020-12-24 12:50PM EST   245.0        0.05  0.03   \n",
       "24  MSFT201231C00250000  2020-12-24 12:54PM EST   250.0        0.04  0.01   \n",
       "\n",
       "     Ask  Change % Change  Volume  Open Interest Implied Volatility  \\\n",
       "20  0.11   -0.05  -35.71%     281           1639             30.08%   \n",
       "21  0.10   -0.02  -20.00%     466           1669             33.50%   \n",
       "22  0.08   -0.02  -22.22%     141            625             36.04%   \n",
       "23  0.06   -0.01  -16.67%      83            596             38.09%   \n",
       "24  0.05   -0.01  -20.00%     340           1270             43.75%   \n",
       "\n",
       "    estimate_1  \n",
       "20   -9.764220  \n",
       "21  -12.033298  \n",
       "22  -14.296247  \n",
       "23  -16.553029  \n",
       "24  -21.047935  "
      ]
     },
     "execution_count": 25,
     "metadata": {},
     "output_type": "execute_result"
    }
   ],
   "source": [
    "df_estimate.tail()"
   ]
  },
  {
   "cell_type": "code",
   "execution_count": 27,
   "metadata": {},
   "outputs": [
    {
     "data": {
      "text/plain": [
       "count     25.000000\n",
       "mean     -51.092794\n",
       "std       52.522587\n",
       "min     -201.994200\n",
       "25%     -100.559587\n",
       "50%      -24.033815\n",
       "75%       -8.932106\n",
       "max       -2.590357\n",
       "Name: estimate_error, dtype: float64"
      ]
     },
     "execution_count": 27,
     "metadata": {},
     "output_type": "execute_result"
    }
   ],
   "source": [
    "df_estimate['estimate_error'] = ((df_estimate['Ask']-df_estimate['estimate_1'])/df_estimate['estimate_1'])*100\n",
    "\n",
    "df_estimate['estimate_error'].describe()"
   ]
  },
  {
   "cell_type": "code",
   "execution_count": 28,
   "metadata": {},
   "outputs": [
    {
     "name": "stderr",
     "output_type": "stream",
     "text": [
      "/home/avocado/anaconda3/lib/python3.8/site-packages/seaborn/distributions.py:2551: FutureWarning: `distplot` is a deprecated function and will be removed in a future version. Please adapt your code to use either `displot` (a figure-level function with similar flexibility) or `histplot` (an axes-level function for histograms).\n",
      "  warnings.warn(msg, FutureWarning)\n"
     ]
    },
    {
     "data": {
      "image/png": "[encoded data removed]",
      "text/plain": [
       "<Figure size 432x288 with 1 Axes>"
      ]
     },
     "metadata": {
      "needs_background": "light"
     },
     "output_type": "display_data"
    }
   ],
   "source": [
    "import seaborn as sns, numpy as np\n",
    "ax = sns.distplot(df_estimate['estimate_error'])"
   ]
  },
  {
   "cell_type": "code",
   "execution_count": 29,
   "metadata": {},
   "outputs": [
    {
     "name": "stderr",
     "output_type": "stream",
     "text": [
      "/home/avocado/anaconda3/lib/python3.8/site-packages/seaborn/distributions.py:2551: FutureWarning: `distplot` is a deprecated function and will be removed in a future version. Please adapt your code to use either `displot` (a figure-level function with similar flexibility) or `histplot` (an axes-level function for histograms).\n",
      "  warnings.warn(msg, FutureWarning)\n"
     ]
    },
    {
     "data": {
      "image/png": "[encoded data removed]",
      "text/plain": [
       "<Figure size 432x288 with 1 Axes>"
      ]
     },
     "metadata": {
      "needs_background": "light"
     },
     "output_type": "display_data"
    }
   ],
   "source": [
    "df1 = df_estimate[(df_estimate.Volume != '-')]\n",
    "ax = sns.distplot(df1['estimate_error'])"
   ]
  },
  {
   "cell_type": "code",
   "execution_count": 30,
   "metadata": {},
   "outputs": [
    {
     "data": {
      "text/html": [
       "<div>\n",
       "<style scoped>\n",
       "    .dataframe tbody tr th:only-of-type {\n",
       "        vertical-align: middle;\n",
       "    }\n",
       "\n",
       "    .dataframe tbody tr th {\n",
       "        vertical-align: top;\n",
       "    }\n",
       "\n",
       "    .dataframe thead th {\n",
       "        text-align: right;\n",
       "    }\n",
       "</style>\n",
       "<table border=\"1\" class=\"dataframe\">\n",
       "  <thead>\n",
       "    <tr style=\"text-align: right;\">\n",
       "      <th></th>\n",
       "      <th>Contract Name</th>\n",
       "      <th>Last Trade Date</th>\n",
       "      <th>Strike</th>\n",
       "      <th>Last Price</th>\n",
       "      <th>Bid</th>\n",
       "      <th>Ask</th>\n",
       "      <th>Change</th>\n",
       "      <th>% Change</th>\n",
       "      <th>Volume</th>\n",
       "      <th>Open Interest</th>\n",
       "      <th>Implied Volatility</th>\n",
       "      <th>estimate_1</th>\n",
       "      <th>estimate_error</th>\n",
       "    </tr>\n",
       "  </thead>\n",
       "  <tbody>\n",
       "  </tbody>\n",
       "</table>\n",
       "</div>"
      ],
      "text/plain": [
       "Empty DataFrame\n",
       "Columns: [Contract Name, Last Trade Date, Strike, Last Price, Bid, Ask, Change, % Change, Volume, Open Interest, Implied Volatility, estimate_1, estimate_error]\n",
       "Index: []"
      ]
     },
     "execution_count": 30,
     "metadata": {},
     "output_type": "execute_result"
    }
   ],
   "source": [
    "df1[df1['estimate_error'] > 1]"
   ]
  }
 ],
 "metadata": {
  "kernelspec": {
   "display_name": "Python 3",
   "language": "python",
   "name": "python3"
  },
  "language_info": {
   "codemirror_mode": {
    "name": "ipython",
    "version": 3
   },
   "file_extension": ".py",
   "mimetype": "text/x-python",
   "name": "python",
   "nbconvert_exporter": "python",
   "pygments_lexer": "ipython3",
   "version": "3.8.5"
  }
 },
 "nbformat": 4,
 "nbformat_minor": 4
}
