{
 "cells": [
  {
   "cell_type": "code",
   "execution_count": 32,
   "metadata": {},
   "outputs": [],
   "source": [
    "# download annual historical data for the stock\n",
    "import pandas as pd\n",
    "df = pd.read_csv(\"TSLA.csv\")\n",
    "df = df.sort_values(by=\"Date\")\n",
    "df = df.dropna()\n",
    "# calculate returns\n",
    "df = df.assign(close_day_before=df.Close.shift(1))\n",
    "df['returns'] = ((df.Close - df.close_day_before)/df.close_day_before)\n",
    "\n",
    "# get options data from yahoo finance // in this case, exercise data is july 24th\n",
    "r = pd.read_html('https://finance.yahoo.com/quote/TSLA/options?date=1609372800&p=TSLA')[0]"
   ]
  },
  {
   "cell_type": "code",
   "execution_count": 33,
   "metadata": {},
   "outputs": [
    {
     "data": {
      "text/plain": [
       "131"
      ]
     },
     "execution_count": 33,
     "metadata": {},
     "output_type": "execute_result"
    }
   ],
   "source": [
    "len(r)"
   ]
  },
  {
   "cell_type": "code",
   "execution_count": 34,
   "metadata": {},
   "outputs": [
    {
     "data": {
      "text/html": [
       "<div>\n",
       "<style scoped>\n",
       "    .dataframe tbody tr th:only-of-type {\n",
       "        vertical-align: middle;\n",
       "    }\n",
       "\n",
       "    .dataframe tbody tr th {\n",
       "        vertical-align: top;\n",
       "    }\n",
       "\n",
       "    .dataframe thead th {\n",
       "        text-align: right;\n",
       "    }\n",
       "</style>\n",
       "<table border=\"1\" class=\"dataframe\">\n",
       "  <thead>\n",
       "    <tr style=\"text-align: right;\">\n",
       "      <th></th>\n",
       "      <th>Contract Name</th>\n",
       "      <th>Last Trade Date</th>\n",
       "      <th>Strike</th>\n",
       "      <th>Last Price</th>\n",
       "      <th>Bid</th>\n",
       "      <th>Ask</th>\n",
       "      <th>Change</th>\n",
       "      <th>% Change</th>\n",
       "      <th>Volume</th>\n",
       "      <th>Open Interest</th>\n",
       "      <th>Implied Volatility</th>\n",
       "    </tr>\n",
       "  </thead>\n",
       "  <tbody>\n",
       "    <tr>\n",
       "      <th>0</th>\n",
       "      <td>TSLA201231C00020000</td>\n",
       "      <td>2020-12-24 9:36AM EST</td>\n",
       "      <td>20.0</td>\n",
       "      <td>623.05</td>\n",
       "      <td>639.90</td>\n",
       "      <td>643.65</td>\n",
       "      <td>-2.4</td>\n",
       "      <td>-0.38%</td>\n",
       "      <td>1</td>\n",
       "      <td>12</td>\n",
       "      <td>850.00%</td>\n",
       "    </tr>\n",
       "    <tr>\n",
       "      <th>1</th>\n",
       "      <td>TSLA201231C00040000</td>\n",
       "      <td>2020-12-21 1:50PM EST</td>\n",
       "      <td>40.0</td>\n",
       "      <td>623.10</td>\n",
       "      <td>620.00</td>\n",
       "      <td>623.70</td>\n",
       "      <td>0.0</td>\n",
       "      <td>-</td>\n",
       "      <td>10</td>\n",
       "      <td>12</td>\n",
       "      <td>829.69%</td>\n",
       "    </tr>\n",
       "    <tr>\n",
       "      <th>2</th>\n",
       "      <td>TSLA201231C00060000</td>\n",
       "      <td>2020-12-21 10:42AM EST</td>\n",
       "      <td>60.0</td>\n",
       "      <td>602.90</td>\n",
       "      <td>599.90</td>\n",
       "      <td>603.70</td>\n",
       "      <td>0.0</td>\n",
       "      <td>-</td>\n",
       "      <td>5</td>\n",
       "      <td>13</td>\n",
       "      <td>646.88%</td>\n",
       "    </tr>\n",
       "    <tr>\n",
       "      <th>3</th>\n",
       "      <td>TSLA201231C00080000</td>\n",
       "      <td>2020-12-23 10:36AM EST</td>\n",
       "      <td>80.0</td>\n",
       "      <td>569.20</td>\n",
       "      <td>580.00</td>\n",
       "      <td>583.70</td>\n",
       "      <td>569.2</td>\n",
       "      <td>-</td>\n",
       "      <td>-</td>\n",
       "      <td>5</td>\n",
       "      <td>618.75%</td>\n",
       "    </tr>\n",
       "    <tr>\n",
       "      <th>4</th>\n",
       "      <td>TSLA201231C00100000</td>\n",
       "      <td>2020-12-21 1:16PM EST</td>\n",
       "      <td>100.0</td>\n",
       "      <td>568.05</td>\n",
       "      <td>559.95</td>\n",
       "      <td>563.65</td>\n",
       "      <td>0.0</td>\n",
       "      <td>-</td>\n",
       "      <td>5</td>\n",
       "      <td>5</td>\n",
       "      <td>509.38%</td>\n",
       "    </tr>\n",
       "  </tbody>\n",
       "</table>\n",
       "</div>"
      ],
      "text/plain": [
       "         Contract Name         Last Trade Date  Strike  Last Price     Bid  \\\n",
       "0  TSLA201231C00020000   2020-12-24 9:36AM EST    20.0      623.05  639.90   \n",
       "1  TSLA201231C00040000   2020-12-21 1:50PM EST    40.0      623.10  620.00   \n",
       "2  TSLA201231C00060000  2020-12-21 10:42AM EST    60.0      602.90  599.90   \n",
       "3  TSLA201231C00080000  2020-12-23 10:36AM EST    80.0      569.20  580.00   \n",
       "4  TSLA201231C00100000   2020-12-21 1:16PM EST   100.0      568.05  559.95   \n",
       "\n",
       "      Ask  Change % Change Volume  Open Interest Implied Volatility  \n",
       "0  643.65    -2.4   -0.38%      1             12            850.00%  \n",
       "1  623.70     0.0        -     10             12            829.69%  \n",
       "2  603.70     0.0        -      5             13            646.88%  \n",
       "3  583.70   569.2        -      -              5            618.75%  \n",
       "4  563.65     0.0        -      5              5            509.38%  "
      ]
     },
     "execution_count": 34,
     "metadata": {},
     "output_type": "execute_result"
    }
   ],
   "source": [
    "r.head()"
   ]
  },
  {
   "cell_type": "code",
   "execution_count": 35,
   "metadata": {},
   "outputs": [],
   "source": [
    "# S is the spot price \n",
    "# K is the strike price \n",
    "# T is the fraction of days to strike date divided by 252 (stock market days)\n",
    "# r is the risk free rate\n",
    "# sigma is the annual volatility of the returns of the stock \n",
    "\n",
    "def black_scholes(S, K, T, r, sigma):\n",
    "    d1 = np.log(S/(K/(1 + r)**T)/(sigma*sqrt(T))) + (sigma*sqrt(T))/2\n",
    "    d2 = d1 - sigma * np.sqrt(T)\n",
    "    return S * norm.cdf(d1) - (K/(1 + r)**T) * norm.cdf(d2)"
   ]
  },
  {
   "cell_type": "code",
   "execution_count": 36,
   "metadata": {},
   "outputs": [],
   "source": [
    "from math import sqrt\n",
    "import numpy as np\n",
    "from scipy.stats import norm\n",
    "\n",
    "# Calculate the volatility as the annualized standard deviation of the stock returns\n",
    "sigma = np.sqrt(252) * df['returns'].std()\n",
    "\n",
    "list_estimates = []\n",
    "\n",
    "# currently 35 different strike prices for call contracts \n",
    "for x in range(0,131):\n",
    "    value_s = black_scholes(S = 661.77, \n",
    "                            K = r['Strike'][x], \n",
    "                            T = (40/252), \n",
    "                            r = 0.0094, \n",
    "                            sigma = sigma)\n",
    "    list_estimates.append(value_s)\n",
    "    \n",
    "\n",
    "# merge the two lists to compare results\n",
    "df_list = pd.DataFrame(data=list_estimates, index=r.index)\n",
    "df_list['estimate_1'] = df_list[0]\n",
    "del df_list[0]\n",
    "df_estimate = r.merge(df_list, right_index = True, left_index = True)"
   ]
  },
  {
   "cell_type": "code",
   "execution_count": 41,
   "metadata": {
    "scrolled": true
   },
   "outputs": [
    {
     "data": {
      "text/html": [
       "<div>\n",
       "<style scoped>\n",
       "    .dataframe tbody tr th:only-of-type {\n",
       "        vertical-align: middle;\n",
       "    }\n",
       "\n",
       "    .dataframe tbody tr th {\n",
       "        vertical-align: top;\n",
       "    }\n",
       "\n",
       "    .dataframe thead th {\n",
       "        text-align: right;\n",
       "    }\n",
       "</style>\n",
       "<table border=\"1\" class=\"dataframe\">\n",
       "  <thead>\n",
       "    <tr style=\"text-align: right;\">\n",
       "      <th></th>\n",
       "      <th>Contract Name</th>\n",
       "      <th>Last Trade Date</th>\n",
       "      <th>Strike</th>\n",
       "      <th>Last Price</th>\n",
       "      <th>Bid</th>\n",
       "      <th>Ask</th>\n",
       "      <th>Change</th>\n",
       "      <th>% Change</th>\n",
       "      <th>Volume</th>\n",
       "      <th>Open Interest</th>\n",
       "      <th>Implied Volatility</th>\n",
       "      <th>estimate_1</th>\n",
       "      <th>estimate_error</th>\n",
       "    </tr>\n",
       "  </thead>\n",
       "  <tbody>\n",
       "    <tr>\n",
       "      <th>0</th>\n",
       "      <td>TSLA201231C00020000</td>\n",
       "      <td>2020-12-24 9:36AM EST</td>\n",
       "      <td>20.0</td>\n",
       "      <td>623.05</td>\n",
       "      <td>639.90</td>\n",
       "      <td>643.65</td>\n",
       "      <td>-2.4</td>\n",
       "      <td>-0.38%</td>\n",
       "      <td>1</td>\n",
       "      <td>12</td>\n",
       "      <td>850.00%</td>\n",
       "      <td>641.798988</td>\n",
       "      <td>0.288410</td>\n",
       "    </tr>\n",
       "    <tr>\n",
       "      <th>1</th>\n",
       "      <td>TSLA201231C00040000</td>\n",
       "      <td>2020-12-21 1:50PM EST</td>\n",
       "      <td>40.0</td>\n",
       "      <td>623.10</td>\n",
       "      <td>620.00</td>\n",
       "      <td>623.70</td>\n",
       "      <td>0.0</td>\n",
       "      <td>-</td>\n",
       "      <td>10</td>\n",
       "      <td>12</td>\n",
       "      <td>829.69%</td>\n",
       "      <td>621.814780</td>\n",
       "      <td>0.303180</td>\n",
       "    </tr>\n",
       "    <tr>\n",
       "      <th>2</th>\n",
       "      <td>TSLA201231C00060000</td>\n",
       "      <td>2020-12-21 10:42AM EST</td>\n",
       "      <td>60.0</td>\n",
       "      <td>602.90</td>\n",
       "      <td>599.90</td>\n",
       "      <td>603.70</td>\n",
       "      <td>0.0</td>\n",
       "      <td>-</td>\n",
       "      <td>5</td>\n",
       "      <td>13</td>\n",
       "      <td>646.88%</td>\n",
       "      <td>601.791879</td>\n",
       "      <td>0.317073</td>\n",
       "    </tr>\n",
       "    <tr>\n",
       "      <th>3</th>\n",
       "      <td>TSLA201231C00080000</td>\n",
       "      <td>2020-12-23 10:36AM EST</td>\n",
       "      <td>80.0</td>\n",
       "      <td>569.20</td>\n",
       "      <td>580.00</td>\n",
       "      <td>583.70</td>\n",
       "      <td>569.2</td>\n",
       "      <td>-</td>\n",
       "      <td>-</td>\n",
       "      <td>5</td>\n",
       "      <td>618.75%</td>\n",
       "      <td>581.714009</td>\n",
       "      <td>0.341403</td>\n",
       "    </tr>\n",
       "    <tr>\n",
       "      <th>4</th>\n",
       "      <td>TSLA201231C00100000</td>\n",
       "      <td>2020-12-21 1:16PM EST</td>\n",
       "      <td>100.0</td>\n",
       "      <td>568.05</td>\n",
       "      <td>559.95</td>\n",
       "      <td>563.65</td>\n",
       "      <td>0.0</td>\n",
       "      <td>-</td>\n",
       "      <td>5</td>\n",
       "      <td>5</td>\n",
       "      <td>509.38%</td>\n",
       "      <td>561.580916</td>\n",
       "      <td>0.368439</td>\n",
       "    </tr>\n",
       "  </tbody>\n",
       "</table>\n",
       "</div>"
      ],
      "text/plain": [
       "         Contract Name         Last Trade Date  Strike  Last Price     Bid  \\\n",
       "0  TSLA201231C00020000   2020-12-24 9:36AM EST    20.0      623.05  639.90   \n",
       "1  TSLA201231C00040000   2020-12-21 1:50PM EST    40.0      623.10  620.00   \n",
       "2  TSLA201231C00060000  2020-12-21 10:42AM EST    60.0      602.90  599.90   \n",
       "3  TSLA201231C00080000  2020-12-23 10:36AM EST    80.0      569.20  580.00   \n",
       "4  TSLA201231C00100000   2020-12-21 1:16PM EST   100.0      568.05  559.95   \n",
       "\n",
       "      Ask  Change % Change Volume  Open Interest Implied Volatility  \\\n",
       "0  643.65    -2.4   -0.38%      1             12            850.00%   \n",
       "1  623.70     0.0        -     10             12            829.69%   \n",
       "2  603.70     0.0        -      5             13            646.88%   \n",
       "3  583.70   569.2        -      -              5            618.75%   \n",
       "4  563.65     0.0        -      5              5            509.38%   \n",
       "\n",
       "   estimate_1  estimate_error  \n",
       "0  641.798988        0.288410  \n",
       "1  621.814780        0.303180  \n",
       "2  601.791879        0.317073  \n",
       "3  581.714009        0.341403  \n",
       "4  561.580916        0.368439  "
      ]
     },
     "execution_count": 41,
     "metadata": {},
     "output_type": "execute_result"
    }
   ],
   "source": [
    "df_estimate.head()"
   ]
  },
  {
   "cell_type": "code",
   "execution_count": 38,
   "metadata": {},
   "outputs": [
    {
     "data": {
      "text/plain": [
       "count    131.000000\n",
       "mean     -40.199137\n",
       "std       42.629352\n",
       "min     -117.505926\n",
       "25%     -100.004640\n",
       "50%      -17.269371\n",
       "75%       -2.316255\n",
       "max        0.655159\n",
       "Name: estimate_error, dtype: float64"
      ]
     },
     "execution_count": 38,
     "metadata": {},
     "output_type": "execute_result"
    }
   ],
   "source": [
    "df_estimate['estimate_error'] = ((df_estimate['Ask'] - df_estimate['estimate_1'])/df_estimate['estimate_1'])*100\n",
    "\n",
    "df_estimate['estimate_error'].describe()"
   ]
  },
  {
   "cell_type": "code",
   "execution_count": 39,
   "metadata": {},
   "outputs": [
    {
     "name": "stderr",
     "output_type": "stream",
     "text": [
      "/home/avocado/anaconda3/lib/python3.8/site-packages/seaborn/distributions.py:2551: FutureWarning: `distplot` is a deprecated function and will be removed in a future version. Please adapt your code to use either `displot` (a figure-level function with similar flexibility) or `histplot` (an axes-level function for histograms).\n",
      "  warnings.warn(msg, FutureWarning)\n"
     ]
    },
    {
     "data": {
      "image/png": "[encoded data removed]",
      "text/plain": [
       "<Figure size 432x288 with 1 Axes>"
      ]
     },
     "metadata": {
      "needs_background": "light"
     },
     "output_type": "display_data"
    }
   ],
   "source": [
    "import seaborn as sns, numpy as np\n",
    "ax = sns.distplot(df_estimate['estimate_error'])"
   ]
  },
  {
   "cell_type": "code",
   "execution_count": 42,
   "metadata": {},
   "outputs": [
    {
     "name": "stderr",
     "output_type": "stream",
     "text": [
      "/home/avocado/anaconda3/lib/python3.8/site-packages/seaborn/distributions.py:2551: FutureWarning: `distplot` is a deprecated function and will be removed in a future version. Please adapt your code to use either `displot` (a figure-level function with similar flexibility) or `histplot` (an axes-level function for histograms).\n",
      "  warnings.warn(msg, FutureWarning)\n"
     ]
    },
    {
     "data": {
      "image/png": "[encoded data removed]",
      "text/plain": [
       "<Figure size 432x288 with 1 Axes>"
      ]
     },
     "metadata": {
      "needs_background": "light"
     },
     "output_type": "display_data"
    }
   ],
   "source": [
    "df1 = df_estimate[(df_estimate.Volume != '-')]\n",
    "ax = sns.distplot(df1['estimate_error'])"
   ]
  },
  {
   "cell_type": "code",
   "execution_count": 15,
   "metadata": {},
   "outputs": [
    {
     "data": {
      "text/html": [
       "<div>\n",
       "<style scoped>\n",
       "    .dataframe tbody tr th:only-of-type {\n",
       "        vertical-align: middle;\n",
       "    }\n",
       "\n",
       "    .dataframe tbody tr th {\n",
       "        vertical-align: top;\n",
       "    }\n",
       "\n",
       "    .dataframe thead th {\n",
       "        text-align: right;\n",
       "    }\n",
       "</style>\n",
       "<table border=\"1\" class=\"dataframe\">\n",
       "  <thead>\n",
       "    <tr style=\"text-align: right;\">\n",
       "      <th></th>\n",
       "      <th>Contract Name</th>\n",
       "      <th>Last Trade Date</th>\n",
       "      <th>Strike</th>\n",
       "      <th>Last Price</th>\n",
       "      <th>Bid</th>\n",
       "      <th>Ask</th>\n",
       "      <th>Change</th>\n",
       "      <th>% Change</th>\n",
       "      <th>Volume</th>\n",
       "      <th>Open Interest</th>\n",
       "      <th>Implied Volatility</th>\n",
       "      <th>estimate_1</th>\n",
       "      <th>estimate_error</th>\n",
       "    </tr>\n",
       "  </thead>\n",
       "  <tbody>\n",
       "  </tbody>\n",
       "</table>\n",
       "</div>"
      ],
      "text/plain": [
       "Empty DataFrame\n",
       "Columns: [Contract Name, Last Trade Date, Strike, Last Price, Bid, Ask, Change, % Change, Volume, Open Interest, Implied Volatility, estimate_1, estimate_error]\n",
       "Index: []"
      ]
     },
     "execution_count": 15,
     "metadata": {},
     "output_type": "execute_result"
    }
   ],
   "source": [
    "df1[df1['estimate_error'] > 1]"
   ]
  }
 ],
 "metadata": {
  "kernelspec": {
   "display_name": "Python 3",
   "language": "python",
   "name": "python3"
  },
  "language_info": {
   "codemirror_mode": {
    "name": "ipython",
    "version": 3
   },
   "file_extension": ".py",
   "mimetype": "text/x-python",
   "name": "python",
   "nbconvert_exporter": "python",
   "pygments_lexer": "ipython3",
   "version": "3.8.5"
  }
 },
 "nbformat": 4,
 "nbformat_minor": 4
}
