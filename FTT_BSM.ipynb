{
 "cells": [
  {
   "cell_type": "code",
   "execution_count": 18,
   "metadata": {},
   "outputs": [],
   "source": [
    "# imports\n",
    "import numpy as np\n",
    "import scipy as scp\n",
    "from scipy.sparse.linalg import spsolve\n",
    "from scipy import sparse\n",
    "from scipy.sparse.linalg import splu\n",
    "import matplotlib.pyplot as plt\n",
    "from mpl_toolkits import mplot3d\n",
    "from matplotlib import cm\n",
    "from time import time\n",
    "import scipy.stats as ss\n",
    "from functools import partial\n",
    "from scipy.integrate import quad\n",
    "import scipy as scp\n",
    "from math import factorial"
   ]
  },
  {
   "cell_type": "markdown",
   "metadata": {},
   "source": [
    "In probability theory and statistics, a diffusion process is a solution to a stochastic differential equation. It is a continuous-time Markov process with almost surely continuous sample paths. Brownian motion, reflected Brownian motion and Ornstein–Uhlenbeck processes are examples of diffusion processes."
   ]
  },
  {
   "cell_type": "markdown",
   "metadata": {},
   "source": [
    "# Black Scholes"
   ]
  },
  {
   "cell_type": "code",
   "execution_count": 14,
   "metadata": {},
   "outputs": [],
   "source": [
    "# vars\n",
    "# r=0                   # int rt\n",
    "# sig=0                 # diffusion coefficient\n",
    "# S0=0                  # current price of stock\n",
    "# K=0                   # strike price\n",
    "# T=0                   # Maturity (yrs)\n",
    "rvexp=None            # function to generate solution of GBM\n",
    "price=0\n",
    "S_vec = None          # vector for the stock\n",
    "price_vec = None      # vector for the price\n",
    "mesh = None           # for plotting purposes\n",
    "ex = None             # exercise the option\n",
    "payoff = None         # payoff val"
   ]
  },
  {
   "cell_type": "code",
   "execution_count": 3,
   "metadata": {},
   "outputs": [],
   "source": [
    "# payoff function\n",
    "def payoff_function(S):\n",
    "    if payoff=='call':\n",
    "        fPayoff = np.maximum(S-K,0)\n",
    "    elif payoff=='put':\n",
    "        fPayoff = np.maximum(K-S,0)\n",
    "    return fPayoff"
   ]
  },
  {
   "cell_type": "code",
   "execution_count": 13,
   "metadata": {},
   "outputs": [],
   "source": [
    "# closed formula ish\n",
    "def BS(payoff,S0,K,T,r,sigma):\n",
    "    d1 = (np.log(S0/K) + (r + sigma**2 / 2) * T) / (sigma * np.sqrt(T))\n",
    "    d2 = d1 - (sigma * np.sqrt(T))\n",
    "\n",
    "    if payoff==\"call\":\n",
    "        return S0 * ss.norm.cdf( d1 ) - K * np.exp(-r * T) * ss.norm.cdf( d2 )\n",
    "    elif payoff==\"put\":\n",
    "        return K * np.exp(-r * T) * ss.norm.cdf( -d2 ) - S0 * ss.norm.cdf( -d1 )\n",
    "    else:\n",
    "        raise ValueError(\"invalid type. Set 'call' or 'put'\")\n"
   ]
  },
  {
   "cell_type": "markdown",
   "metadata": {},
   "source": [
    "## Fourier Inversion\n",
    "\n",
    "Price is obtained by inversion of the characteristic function. cf_normal is the characteristic function for normal distributions"
   ]
  },
  {
   "cell_type": "code",
   "execution_count": 5,
   "metadata": {},
   "outputs": [],
   "source": [
    "def cf_normal(u,mu=1,sig=2):\n",
    "    return np.exp(1j*u*mu-0.5*u**2*sig**2)"
   ]
  },
  {
   "cell_type": "code",
   "execution_count": 9,
   "metadata": {},
   "outputs": [],
   "source": [
    "def Q1(k, cf, right_lim):\n",
    "    \"\"\"\n",
    "    P(X<k) - Probability to be in the money under the stock numeraire.\n",
    "    cf: characteristic function\n",
    "    right_lim: right limit of integration\n",
    "    \"\"\"\n",
    "    integrand = lambda u: np.real( (np.exp(-u*k*1j) / (u*1j)) * \n",
    "                                  cf(u-1j) / cf(-1.0000000000001j) )  \n",
    "    return 1/2 + 1/np.pi * quad(integrand, 1e-15, right_lim, limit=2000 )[0]\n",
    "\n",
    "\n",
    "def Q2(k, cf, right_lim):\n",
    "    \"\"\"\n",
    "    P(X<k) - Probability to be in the money under the money market numeraire\n",
    "    cf: characteristic function\n",
    "    right_lim: right limit of integration\n",
    "    \"\"\"\n",
    "    integrand = lambda u: np.real( np.exp(-u*k*1j) /(u*1j) * cf(u) )\n",
    "    return 1/2 + 1/np.pi * quad(integrand, 1e-15, right_lim, limit=2000 )[0]"
   ]
  },
  {
   "cell_type": "code",
   "execution_count": 10,
   "metadata": {},
   "outputs": [],
   "source": [
    "def fourier_inv():\n",
    "    k = np.log(K/S0)\n",
    "    cf_GBM = partial(cf_normal,mu=(r-0.5*sig**2)*T,sig=sig*np.sqrt(T))\n",
    "#     function binding\n",
    "    if payoff=='call':\n",
    "        call=S0*Q1(k,cf_GBM,np.inf)-K*np.exp(-r*T)*Q2(k,cf_GBM,np.inf)\n",
    "#         pricing func\n",
    "        return call\n",
    "    elif payoff=='put':\n",
    "        put=K*np.exp(-r*T)*(1-Q2(k,cf_GBM,np.inf))-S0*(1-Q1(k,cf_GBM,np.inf))\n",
    "#         pricing func\n",
    "    else:\n",
    "            raise ValueError(\"invalid type. Set 'call' or 'put'\")"
   ]
  },
  {
   "cell_type": "markdown",
   "metadata": {},
   "source": [
    "## Running the functions"
   ]
  },
  {
   "cell_type": "code",
   "execution_count": 17,
   "metadata": {},
   "outputs": [
    {
     "name": "stdout",
     "output_type": "stream",
     "text": [
      "13.269676584660893\n",
      "3.753418388256833\n"
     ]
    }
   ],
   "source": [
    "S0=100.0\n",
    "K=100.0\n",
    "T=1.0\n",
    "r=0.1\n",
    "sig=0.2\n",
    "a_call=BS('call',S0,K,T,r,sig)\n",
    "a_put=BS('put',S0,K,T,r,sig)\n",
    "print(a_call)\n",
    "print(a_put)"
   ]
  },
  {
   "cell_type": "markdown",
   "metadata": {},
   "source": [
    "## Monte Carlo"
   ]
  },
  {
   "cell_type": "code",
   "execution_count": 20,
   "metadata": {},
   "outputs": [],
   "source": [
    "np.random.seed(seed=44)              # seed the rand num gen\n",
    "N=10000000                           # Number of RVs\n",
    "\n",
    "W = ss.norm.rvs( (r-0.5*sig**2)*T , np.sqrt(T)*sig, N)\n",
    "S_T = S0 * np.exp(W)\n",
    "\n",
    "call = np.mean( np.exp(-r*T) * np.maximum(S_T-K,0) )\n",
    "put = np.mean( np.exp(-r*T) * np.maximum(K-S_T,0) )\n",
    "call_err = ss.sem( np.exp(-r*T) * np.maximum(S_T-K,0) )  # standard error\n",
    "put_err = ss.sem( np.exp(-r*T) * np.maximum(K-S_T,0) )   # standard error"
   ]
  },
  {
   "cell_type": "code",
   "execution_count": 21,
   "metadata": {},
   "outputs": [
    {
     "name": "stdout",
     "output_type": "stream",
     "text": [
      "Call price: 13.26333800663666, with error: 0.005093638687208466\n",
      "Put price: 3.7553894006350093, with error: 0.002214066662789331\n"
     ]
    }
   ],
   "source": [
    "print(\"Call price: {}, with error: {}\".format(call, call_err))\n",
    "print(\"Put price: {}, with error: {}\".format(put, put_err))"
   ]
  },
  {
   "cell_type": "code",
   "execution_count": 25,
   "metadata": {},
   "outputs": [
    {
     "data": {
      "text/plain": [
       "13.26967658466063"
      ]
     },
     "execution_count": 25,
     "metadata": {},
     "output_type": "execute_result"
    }
   ],
   "source": [
    "payoff='call'\n",
    "fourier_inv()\n",
    "# 13.26967658466063"
   ]
  }
 ],
 "metadata": {
  "kernelspec": {
   "display_name": "Python 3",
   "language": "python",
   "name": "python3"
  },
  "language_info": {
   "codemirror_mode": {
    "name": "ipython",
    "version": 3
   },
   "file_extension": ".py",
   "mimetype": "text/x-python",
   "name": "python",
   "nbconvert_exporter": "python",
   "pygments_lexer": "ipython3",
   "version": "3.8.5"
  }
 },
 "nbformat": 4,
 "nbformat_minor": 4
}
